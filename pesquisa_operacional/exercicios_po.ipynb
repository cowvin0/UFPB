{
 "cells": [
  {
   "cell_type": "code",
   "execution_count": 49,
   "metadata": {},
   "outputs": [],
   "source": [
    "from pulp import LpMaximize, LpMinimize, LpVariable, LpProblem, lpSum, LpStatus"
   ]
  },
  {
   "cell_type": "markdown",
   "metadata": {},
   "source": [
    "### Problema de fluxo máximo e mínino"
   ]
  },
  {
   "cell_type": "code",
   "execution_count": 116,
   "metadata": {},
   "outputs": [],
   "source": [
    "# primeiro será maximizado\n",
    "\n",
    "prob = LpProblem('model', LpMaximize)"
   ]
  },
  {
   "cell_type": "code",
   "execution_count": 117,
   "metadata": {},
   "outputs": [],
   "source": [
    "N = list(range(1, 7))\n",
    "\n",
    "C = {\n",
    "    1: {2: 16, 5: 13},\n",
    "    2: {3: 12},\n",
    "    3: {5: 9, 4: 20},\n",
    "    5: {2: 4, 6: 14},\n",
    "    6: {3: 7, 4: 4}}\n",
    "\n",
    "D = {node: 0 for node in N} #definindo o lado direito das restrições"
   ]
  },
  {
   "cell_type": "code",
   "execution_count": 118,
   "metadata": {},
   "outputs": [],
   "source": [
    "E = [(i,j) for i in N for j in N if i in C.keys() if j in C[i].keys()]"
   ]
  },
  {
   "cell_type": "code",
   "execution_count": 119,
   "metadata": {},
   "outputs": [],
   "source": [
    "x = LpVariable.dicts('x', E,  lowBound = 0)"
   ]
  },
  {
   "cell_type": "code",
   "execution_count": 120,
   "metadata": {},
   "outputs": [],
   "source": [
    "prob += x[(3, 4)] + x[(6, 4)]\n",
    "\n",
    "prob += lpSum(x[1, 2]) - lpSum(x[2, 3]) == 0\n",
    "prob += lpSum(x[1, 5]) + lpSum(x[3, 5]) - lpSum(x[5, 2]) == 0\n",
    "prob += lpSum(x[2, 3]) + lpSum(x[6, 3]) - lpSum(x[3, 5]) - lpSum(x[3, 4]) == 0\n",
    "prob += lpSum(x[5, 6]) - lpSum(x[6, 3]) - lpSum(x[6, 4]) == 0\n",
    "\n",
    "#restrições de capacidade\n",
    "for i in N:\n",
    "  for j in N:\n",
    "    if (i,j) in E:\n",
    "      prob += x[i,j] <= C[i][j]"
   ]
  },
  {
   "cell_type": "code",
   "execution_count": 55,
   "metadata": {},
   "outputs": [
    {
     "name": "stdout",
     "output_type": "stream",
     "text": [
      "Welcome to the CBC MILP Solver \n",
      "Version: 2.10.3 \n",
      "Build Date: Dec 15 2019 \n",
      "\n",
      "command line - /home/cowvin/.local/lib/python3.10/site-packages/pulp/solverdir/cbc/linux/64/cbc /tmp/bc9beaa0c2ec444da0f1b08efc4a0bd1-pulp.mps -max -timeMode elapsed -branch -printingOptions all -solution /tmp/bc9beaa0c2ec444da0f1b08efc4a0bd1-pulp.sol (default strategy 1)\n",
      "At line 2 NAME          MODEL\n",
      "At line 3 ROWS\n",
      "At line 18 COLUMNS\n",
      "At line 42 RHS\n",
      "At line 56 BOUNDS\n",
      "At line 57 ENDATA\n",
      "Problem MODEL has 13 rows, 9 columns and 21 elements\n",
      "Coin0008I MODEL read with 0 errors\n",
      "Option for timeMode changed from cpu to elapsed\n",
      "Presolve 0 (-13) rows, 0 (-9) columns and 0 (-21) elements\n",
      "Empty problem - 0 rows, 0 columns and 0 elements\n",
      "Optimal - objective value 23\n",
      "After Postsolve, objective 23, infeasibilities - dual 0.9999999 (1), primal 0 (0)\n",
      "Presolved model was optimal, full model needs cleaning up\n",
      "0  Obj 23\n",
      "Optimal - objective value 23\n",
      "Optimal objective 23 - 0 iterations time 0.002, Presolve 0.00\n",
      "Option for printingOptions changed from normal to all\n",
      "Total time (CPU seconds):       0.00   (Wallclock seconds):       0.00\n",
      "\n",
      "Status\n",
      "Optimal\n",
      "\n",
      "Valor ótimo das variáveis\n",
      "x_(1,_2) = 12.0\n",
      "x_(1,_5) = 0.0\n",
      "x_(2,_3) = 12.0\n",
      "x_(3,_4) = 19.0\n",
      "x_(3,_5) = 0.0\n",
      "x_(5,_2) = 0.0\n",
      "x_(5,_6) = 11.0\n",
      "x_(6,_3) = 7.0\n",
      "x_(6,_4) = 4.0\n"
     ]
    }
   ],
   "source": [
    "status = prob.solve()\n",
    "\n",
    "# print(\"Valor da função objetivo:\", prob.objective.value())\n",
    "\n",
    "print(f'Status\\n{LpStatus[status]}\\n')\n",
    "\n",
    "print('Valor ótimo das variáveis')\n",
    "for v in prob.variables():\n",
    "    print(v.name, '=', v.varValue)"
   ]
  },
  {
   "cell_type": "code",
   "execution_count": 56,
   "metadata": {},
   "outputs": [],
   "source": [
    "# parte da minimização"
   ]
  },
  {
   "cell_type": "code",
   "execution_count": 121,
   "metadata": {},
   "outputs": [],
   "source": [
    "prob_min = LpProblem('minimiza_questao_1', LpMinimize)"
   ]
  },
  {
   "cell_type": "code",
   "execution_count": 122,
   "metadata": {},
   "outputs": [],
   "source": [
    "prob_min += 16 * x[1, 2] + 13 * x[1, 5] + 12 * x[2, 3] + 4 * x[5, 2] + 9 * x[3, 5] + \\\n",
    "    14 * x[5, 6] + 7 * x[6, 3] + 4 * x[6, 4] + 20 * x[3, 4]\n",
    "\n",
    "prob_min += x[1, 2] + x[1, 5] == 1\n",
    "prob_min += x[1, 2] + x[5, 2] - x[2, 3] == 0\n",
    "prob_min += x[2, 3] + x[6, 3] - x[3, 4] - x[3, 5] == 0\n",
    "prob_min += x[1, 5] + x[3, 5] - x[5, 2] - x[5, 6] == 0\n",
    "prob_min += x[5, 6] - x[6, 3] - x[6, 4] == 0\n",
    "prob_min += x[3, 4] + x[6, 4] == 1"
   ]
  },
  {
   "cell_type": "code",
   "execution_count": 123,
   "metadata": {},
   "outputs": [
    {
     "name": "stdout",
     "output_type": "stream",
     "text": [
      "Welcome to the CBC MILP Solver \n",
      "Version: 2.10.3 \n",
      "Build Date: Dec 15 2019 \n",
      "\n",
      "command line - /home/cowvin/.local/lib/python3.10/site-packages/pulp/solverdir/cbc/linux/64/cbc /tmp/5b79e62e34be4239a25740baa64b510c-pulp.mps -timeMode elapsed -branch -printingOptions all -solution /tmp/5b79e62e34be4239a25740baa64b510c-pulp.sol (default strategy 1)\n",
      "At line 2 NAME          MODEL\n",
      "At line 3 ROWS\n",
      "At line 11 COLUMNS\n",
      "At line 39 RHS\n",
      "At line 46 BOUNDS\n",
      "At line 47 ENDATA\n",
      "Problem MODEL has 6 rows, 9 columns and 18 elements\n",
      "Coin0008I MODEL read with 0 errors\n",
      "Option for timeMode changed from cpu to elapsed\n",
      "Presolve 2 (-4) rows, 4 (-5) columns and 8 (-10) elements\n",
      "Optimal - objective value 31\n",
      "After Postsolve, objective 31, infeasibilities - dual 0 (0), primal 0 (0)\n",
      "Optimal objective 31 - 0 iterations time 0.002, Presolve 0.00\n",
      "Option for printingOptions changed from normal to all\n",
      "Total time (CPU seconds):       0.00   (Wallclock seconds):       0.00\n",
      "\n",
      "Status\n",
      "Optimal\n",
      "\n",
      "Valor ótimo das variáveis\n",
      "x_(1,_2) = 0.0\n",
      "x_(1,_5) = 1.0\n",
      "x_(2,_3) = -0.0\n",
      "x_(3,_4) = 0.0\n",
      "x_(3,_5) = 0.0\n",
      "x_(5,_2) = 0.0\n",
      "x_(5,_6) = 1.0\n",
      "x_(6,_3) = 0.0\n",
      "x_(6,_4) = 1.0\n"
     ]
    }
   ],
   "source": [
    "status_min = prob_min.solve()\n",
    "\n",
    "# print(\"Valor da função objetivo:\", prob.objective.value())\n",
    "\n",
    "print(f'Status\\n{LpStatus[status_min]}\\n')\n",
    "\n",
    "print('Valor ótimo das variáveis')\n",
    "for v in prob_min.variables():\n",
    "    print(v.name, '=', v.varValue)"
   ]
  },
  {
   "cell_type": "markdown",
   "metadata": {},
   "source": [
    "### Problema da designação"
   ]
  },
  {
   "cell_type": "code",
   "execution_count": 60,
   "metadata": {},
   "outputs": [
    {
     "name": "stdout",
     "output_type": "stream",
     "text": [
      "Welcome to the CBC MILP Solver \n",
      "Version: 2.10.3 \n",
      "Build Date: Dec 15 2019 \n",
      "\n",
      "command line - /home/cowvin/.local/lib/python3.10/site-packages/pulp/solverdir/cbc/linux/64/cbc /tmp/413089971a774c57840b9aab2779fdb8-pulp.mps -timeMode elapsed -branch -printingOptions all -solution /tmp/413089971a774c57840b9aab2779fdb8-pulp.sol (default strategy 1)\n",
      "At line 2 NAME          MODEL\n",
      "At line 3 ROWS\n",
      "At line 13 COLUMNS\n",
      "At line 94 RHS\n",
      "At line 103 BOUNDS\n",
      "At line 120 ENDATA\n",
      "Problem MODEL has 8 rows, 16 columns and 32 elements\n",
      "Coin0008I MODEL read with 0 errors\n",
      "Option for timeMode changed from cpu to elapsed\n",
      "Continuous objective value is 50 - 0.00 seconds\n",
      "Cgl0004I processed model has 8 rows, 16 columns (16 integer (16 of which binary)) and 32 elements\n",
      "Cutoff increment increased from 1e-05 to 0.9999\n",
      "Cbc0038I Initial state - 0 integers unsatisfied sum - 0\n",
      "Cbc0038I Solution found of 50\n",
      "Cbc0038I Before mini branch and bound, 16 integers at bound fixed and 0 continuous\n",
      "Cbc0038I Mini branch and bound did not improve solution (0.00 seconds)\n",
      "Cbc0038I After 0.00 seconds - Feasibility pump exiting with objective of 50 - took 0.00 seconds\n",
      "Cbc0012I Integer solution of 50 found by feasibility pump after 0 iterations and 0 nodes (0.00 seconds)\n",
      "Cbc0001I Search completed - best objective 50, took 0 iterations and 0 nodes (0.00 seconds)\n",
      "Cbc0035I Maximum depth 0, 0 variables fixed on reduced cost\n",
      "Cuts at root node changed objective from 50 to 50\n",
      "Probing was tried 0 times and created 0 cuts of which 0 were active after adding rounds of cuts (0.000 seconds)\n",
      "Gomory was tried 0 times and created 0 cuts of which 0 were active after adding rounds of cuts (0.000 seconds)\n",
      "Knapsack was tried 0 times and created 0 cuts of which 0 were active after adding rounds of cuts (0.000 seconds)\n",
      "Clique was tried 0 times and created 0 cuts of which 0 were active after adding rounds of cuts (0.000 seconds)\n",
      "MixedIntegerRounding2 was tried 0 times and created 0 cuts of which 0 were active after adding rounds of cuts (0.000 seconds)\n",
      "FlowCover was tried 0 times and created 0 cuts of which 0 were active after adding rounds of cuts (0.000 seconds)\n",
      "TwoMirCuts was tried 0 times and created 0 cuts of which 0 were active after adding rounds of cuts (0.000 seconds)\n",
      "ZeroHalf was tried 0 times and created 0 cuts of which 0 were active after adding rounds of cuts (0.000 seconds)\n",
      "\n",
      "Result - Optimal solution found\n",
      "\n",
      "Objective value:                50.00000000\n",
      "Enumerated nodes:               0\n",
      "Total iterations:               0\n",
      "Time (CPU seconds):             0.00\n",
      "Time (Wallclock seconds):       0.00\n",
      "\n",
      "Option for printingOptions changed from normal to all\n",
      "Total time (CPU seconds):       0.00   (Wallclock seconds):       0.00\n",
      "\n",
      "Status: Optimal\n",
      "Operário 1 designado para Tarefa 2, Custo: 12 horas.\n",
      "Operário 2 designado para Tarefa 3, Custo: 13 horas.\n",
      "Operário 3 designado para Tarefa 1, Custo: 10 horas.\n",
      "Operário 4 designado para Tarefa 4, Custo: 15 horas.\n",
      "Tempo total mínimo: 50.0 horas.\n"
     ]
    }
   ],
   "source": [
    "import pulp\n",
    "\n",
    "# Definir os dados da matriz de custos\n",
    "custos = [\n",
    "    [10, 12, 15, 16],  # Tarefa 1\n",
    "    [14, 12, 13, 18],  # Tarefa 2\n",
    "    [10, 16, 19, 15],  # Tarefa 3\n",
    "    [14, 12, 13, 15]   # Tarefa 4\n",
    "]\n",
    "\n",
    "# Definir o número de operários e tarefas\n",
    "n_operarios = len(custos)\n",
    "n_tarefas = len(custos[0])\n",
    "\n",
    "# Criar o problema de minimização\n",
    "problema = pulp.LpProblem(\"Problema_de_Designacao\", pulp.LpMinimize)\n",
    "\n",
    "# Criar variáveis de decisão: x[i][j] = 1 se o operário i for designado à tarefa j, caso contrário, 0\n",
    "x = pulp.LpVariable.dicts(\"x\", [(i, j) for i in range(n_operarios) for j in range(n_tarefas)], cat=\"Binary\")\n",
    "\n",
    "# Função objetivo: minimizar o tempo total de execução (somatório dos custos)\n",
    "problema += pulp.lpSum([custos[i][j] * x[(i, j)] for i in range(n_operarios) for j in range(n_tarefas)])\n",
    "\n",
    "# Restrições:\n",
    "# 1. Cada operário deve realizar exatamente uma tarefa\n",
    "for i in range(n_operarios):\n",
    "    problema += pulp.lpSum([x[(i, j)] for j in range(n_tarefas)]) == 1\n",
    "\n",
    "# 2. Cada tarefa deve ser realizada por exatamente um operário\n",
    "for j in range(n_tarefas):\n",
    "    problema += pulp.lpSum([x[(i, j)] for i in range(n_operarios)]) == 1\n",
    "\n",
    "# Resolver o problema\n",
    "problema.solve()\n",
    "\n",
    "# Exibir a solução\n",
    "print(\"Status:\", pulp.LpStatus[problema.status])\n",
    "\n",
    "# Exibir a designação de operários para as tarefas\n",
    "for i in range(n_operarios):\n",
    "    for j in range(n_tarefas):\n",
    "        if pulp.value(x[(i, j)]) == 1:\n",
    "            print(f\"Operário {i+1} designado para Tarefa {j+1}, Custo: {custos[i][j]} horas.\")\n",
    "\n",
    "# Exibir o tempo total mínimo\n",
    "print(f\"Tempo total mínimo: {pulp.value(problema.objective)} horas.\")\n"
   ]
  },
  {
   "cell_type": "markdown",
   "metadata": {},
   "source": [
    "### Transbordo"
   ]
  },
  {
   "cell_type": "code",
   "execution_count": 112,
   "metadata": {},
   "outputs": [],
   "source": [
    "prob_trans = pulp.LpProblem(\"Problema_de_Transbordo\", pulp.LpMinimize)\n",
    "\n",
    "# Definindo as variáveis de decisão\n",
    "x_T1_T2 = pulp.LpVariable('x_T1_T2', lowBound=0, cat='Continuous')\n",
    "x_D1_D2 = pulp.LpVariable('x_D1_D2', lowBound=0, cat='Continuous')\n",
    "x_D2_D3 = pulp.LpVariable('x_D2_D3', lowBound=0, cat='Continuous')\n",
    "x_P1_T1 = pulp.LpVariable('x_P1_T1', lowBound=0, cat='Continuous')\n",
    "x_P1_T2 = pulp.LpVariable('x_P1_T2', lowBound=0, cat='Continuous')\n",
    "x_P2_T1 = pulp.LpVariable('x_P2_T1', lowBound=0, cat='Continuous')\n",
    "x_P2_T2 = pulp.LpVariable('x_P2_T2', lowBound=0, cat='Continuous')\n",
    "x_T1_D1 = pulp.LpVariable('x_T1_D1', lowBound=0, cat='Continuous')\n",
    "x_T1_D2 = pulp.LpVariable('x_T1_D2', lowBound=0, cat='Continuous')\n",
    "x_T1_D3 = pulp.LpVariable('x_T1_D3', lowBound=0, cat='Continuous')\n",
    "x_T2_D1 = pulp.LpVariable('x_T2_D1', lowBound=0, cat='Continuous')\n",
    "x_T2_D2 = pulp.LpVariable('x_T2_D2', lowBound=0, cat='Continuous')\n",
    "x_T2_D3 = pulp.LpVariable('x_T2_D3', lowBound=0, cat='Continuous')"
   ]
  },
  {
   "cell_type": "code",
   "execution_count": 113,
   "metadata": {},
   "outputs": [],
   "source": [
    "prob_trans += (3 * x_P1_T1 + 4 * x_P1_T2 + 2 * x_P2_T1 + 5 * x_P2_T2 +\n",
    "         8 * x_T1_D1 + 6 * x_T1_D2 + 4 * x_T2_D2 + 9 * x_T2_D3)"
   ]
  },
  {
   "cell_type": "code",
   "execution_count": 114,
   "metadata": {},
   "outputs": [],
   "source": [
    "prob_trans += x_P1_T1 + x_P1_T2 == 1000, \"Oferta_P1\"\n",
    "prob_trans += x_P2_T1 + x_P2_T2 == 1200, \"Oferta_P2\"\n",
    "\n",
    "prob_trans += x_T1_D1 == 800, \"Demanda_D1\"\n",
    "prob_trans += x_T1_D2 + x_T2_D2 == 900, \"Demanda_D2\"\n",
    "prob_trans += x_T2_D3 == 500, \"Demanda_D3\"\n",
    "\n",
    "prob_trans += x_P1_T1 + x_P2_T1 == x_T1_D1 + x_T1_D2 + x_T1_D3, \"Equilibrio_T1\"\n",
    "prob_trans += x_P1_T2 + x_P2_T2 == x_T2_D1 + x_T2_D2 + x_T2_D3, \"Equilibrio_T2\""
   ]
  },
  {
   "cell_type": "code",
   "execution_count": 115,
   "metadata": {},
   "outputs": [
    {
     "name": "stdout",
     "output_type": "stream",
     "text": [
      "Welcome to the CBC MILP Solver \n",
      "Version: 2.10.3 \n",
      "Build Date: Dec 15 2019 \n",
      "\n",
      "command line - /home/cowvin/.local/lib/python3.10/site-packages/pulp/solverdir/cbc/linux/64/cbc /tmp/2beed08d413844f4a7fb4b7c267bb6b0-pulp.mps -timeMode elapsed -branch -printingOptions all -solution /tmp/2beed08d413844f4a7fb4b7c267bb6b0-pulp.sol (default strategy 1)\n",
      "At line 2 NAME          MODEL\n",
      "At line 3 ROWS\n",
      "At line 12 COLUMNS\n",
      "At line 39 RHS\n",
      "At line 47 BOUNDS\n",
      "At line 48 ENDATA\n",
      "Problem MODEL has 7 rows, 10 columns and 18 elements\n",
      "Coin0008I MODEL read with 0 errors\n",
      "Option for timeMode changed from cpu to elapsed\n",
      "Presolve 2 (-5) rows, 3 (-7) columns and 6 (-12) elements\n",
      "0  Obj 24500 Primal inf 800 (1) Dual inf 3.999998 (2)\n",
      "1  Obj 21700\n",
      "Optimal - objective value 21700\n",
      "After Postsolve, objective 21700, infeasibilities - dual 0 (0), primal 0 (0)\n",
      "Optimal objective 21700 - 1 iterations time 0.002, Presolve 0.00\n",
      "Option for printingOptions changed from normal to all\n",
      "Total time (CPU seconds):       0.00   (Wallclock seconds):       0.00\n",
      "\n",
      "Status: Optimal\n",
      "Solução: {'x_P1_T1': 0.0, 'x_P1_T2': 1000.0, 'x_P2_T1': 1200.0, 'x_P2_T2': 0.0, 'x_T1_D1': 800.0, 'x_T1_D2': 400.0, 'x_T1_D3': 0.0, 'x_T2_D1': 0.0, 'x_T2_D2': 500.0, 'x_T2_D3': 500.0}\n",
      "Custo total mínimo: 21700.0\n"
     ]
    }
   ],
   "source": [
    "prob_trans.solve()\n",
    "\n",
    "# Status da solução\n",
    "status = pulp.LpStatus[prob_trans.status]\n",
    "\n",
    "# Valores ótimos das variáveis\n",
    "solution = {v.name: v.varValue for v in prob_trans.variables()}\n",
    "\n",
    "# Custo total mínimo\n",
    "total_cost = pulp.value(prob_trans.objective)\n",
    "\n",
    "print(f\"Status: {status}\")\n",
    "print(f\"Solução: {solution}\")\n",
    "print(f\"Custo total mínimo: {total_cost}\")"
   ]
  }
 ],
 "metadata": {
  "kernelspec": {
   "display_name": "Python 3",
   "language": "python",
   "name": "python3"
  },
  "language_info": {
   "codemirror_mode": {
    "name": "ipython",
    "version": 3
   },
   "file_extension": ".py",
   "mimetype": "text/x-python",
   "name": "python",
   "nbconvert_exporter": "python",
   "pygments_lexer": "ipython3",
   "version": "3.10.12"
  }
 },
 "nbformat": 4,
 "nbformat_minor": 2
}
