{
 "cells": [
  {
   "cell_type": "code",
   "execution_count": 12,
   "metadata": {},
   "outputs": [],
   "source": [
    "import pulp\n",
    "from pulp import LpMaximize, LpMinimize, LpVariable, LpProblem, lpSum, LpStatus"
   ]
  },
  {
   "cell_type": "markdown",
   "metadata": {},
   "source": [
    "# Questão 1"
   ]
  },
  {
   "cell_type": "code",
   "execution_count": 13,
   "metadata": {},
   "outputs": [],
   "source": [
    "prob_min = LpProblem('model', LpMinimize)"
   ]
  },
  {
   "cell_type": "code",
   "execution_count": 14,
   "metadata": {},
   "outputs": [],
   "source": [
    "N = ['S', 'A', 'B',\n",
    "     'C', 'D', 'E',\n",
    "     'F', 'G', 'H',\n",
    "     'T']\n",
    "\n",
    "C = {'S': {'A': 9, 'B': 8, 'C': 12},\n",
    "     'A': {'B': 8, 'D': 10},\n",
    "     'B': {'D': 12, 'E': 9},\n",
    "     'C': {'E': 10, 'F': 15},\n",
    "     'D': {'G': 8},\n",
    "     'E': {'G': 11, 'H': 14, 'F': 10},\n",
    "     'F': {'H': 5},\n",
    "     'G': {'T': 12},\n",
    "     'H': {'T': 8}\n",
    "     }\n",
    "\n",
    "E = [(i,j) for i in N for j in N if i in C.keys() if j in C[i].keys()]\n",
    "x = LpVariable.dicts('x', E,  lowBound = 0, cat='Binary')"
   ]
  },
  {
   "cell_type": "code",
   "execution_count": 15,
   "metadata": {},
   "outputs": [],
   "source": [
    "prob_min += (9 * x['S', 'A'] + 8 * x['S', 'B'] + 12 * x['S', 'C'] +\n",
    "             8 * x['A', 'B'] + 10 * x['A', 'D'] + 12 * x['B', 'D'] +\n",
    "             9 * x['B', 'E'] + 11 * x['E', 'G'] + 8 * x['D', 'G'] +\n",
    "             12 * x['G', 'T'] + 14 * x['E', 'H'] + 8 * x['H', 'T'] +\n",
    "             10 * x['C', 'E'] + 15 * x['C', 'F'] + 10 * x['E', 'F'] +\n",
    "             5 * x['F', 'H'])\n",
    "\n",
    "prob_min += x['S', 'A'] + x['S', 'B'] + x['S', 'C'] == 1\n",
    "prob_min += x['S', 'A'] - x['A', 'B'] - x['A', 'D'] == 0\n",
    "prob_min += x['A', 'B'] + x['S', 'B'] - x['B', 'D'] - x['B', 'E'] == 0\n",
    "prob_min += x['S', 'C'] - x['C', 'E'] - x['C', 'F'] == 0\n",
    "prob_min += x['A', 'D'] + x['B', 'D'] - x['D', 'G'] == 0\n",
    "prob_min += x['D', 'G'] + x['E', 'G'] - x['G', 'T'] == 0\n",
    "prob_min += x['B', 'E'] + x['C', 'E'] - x['E', 'G'] - x['E', 'H'] - x['E', 'F'] == 0\n",
    "prob_min += x['C', 'F'] + x['E', 'F'] - x['F', 'H'] == 0\n",
    "prob_min += x['E', 'H'] + x['F', 'H'] - x['H', 'T'] == 0\n",
    "prob_min += x['G', 'T'] + x['H', 'T'] == 1"
   ]
  },
  {
   "cell_type": "code",
   "execution_count": 16,
   "metadata": {},
   "outputs": [
    {
     "name": "stdout",
     "output_type": "stream",
     "text": [
      "Welcome to the CBC MILP Solver \n",
      "Version: 2.10.3 \n",
      "Build Date: Dec 15 2019 \n",
      "\n",
      "command line - /home/cowvin/.local/lib/python3.10/site-packages/pulp/solverdir/cbc/linux/64/cbc /tmp/089121396e2f4583afbbc41fc24aa426-pulp.mps -timeMode elapsed -branch -printingOptions all -solution /tmp/089121396e2f4583afbbc41fc24aa426-pulp.sol (default strategy 1)\n",
      "At line 2 NAME          MODEL\n",
      "At line 3 ROWS\n",
      "At line 15 COLUMNS\n",
      "At line 96 RHS\n",
      "At line 107 BOUNDS\n",
      "At line 124 ENDATA\n",
      "Problem MODEL has 10 rows, 16 columns and 32 elements\n",
      "Coin0008I MODEL read with 0 errors\n",
      "Option for timeMode changed from cpu to elapsed\n",
      "Continuous objective value is 39 - 0.00 seconds\n",
      "Cgl0004I processed model has 0 rows, 0 columns (0 integer (0 of which binary)) and 0 elements\n",
      "Cbc3007W No integer variables - nothing to do\n",
      "Cuts at root node changed objective from 39 to -1.79769e+308\n",
      "Probing was tried 0 times and created 0 cuts of which 0 were active after adding rounds of cuts (0.000 seconds)\n",
      "Gomory was tried 0 times and created 0 cuts of which 0 were active after adding rounds of cuts (0.000 seconds)\n",
      "Knapsack was tried 0 times and created 0 cuts of which 0 were active after adding rounds of cuts (0.000 seconds)\n",
      "Clique was tried 0 times and created 0 cuts of which 0 were active after adding rounds of cuts (0.000 seconds)\n",
      "MixedIntegerRounding2 was tried 0 times and created 0 cuts of which 0 were active after adding rounds of cuts (0.000 seconds)\n",
      "FlowCover was tried 0 times and created 0 cuts of which 0 were active after adding rounds of cuts (0.000 seconds)\n",
      "TwoMirCuts was tried 0 times and created 0 cuts of which 0 were active after adding rounds of cuts (0.000 seconds)\n",
      "ZeroHalf was tried 0 times and created 0 cuts of which 0 were active after adding rounds of cuts (0.000 seconds)\n",
      "\n",
      "Result - Optimal solution found\n",
      "\n",
      "Objective value:                39.00000000\n",
      "Enumerated nodes:               0\n",
      "Total iterations:               0\n",
      "Time (CPU seconds):             0.00\n",
      "Time (Wallclock seconds):       0.00\n",
      "\n",
      "Option for printingOptions changed from normal to all\n",
      "Total time (CPU seconds):       0.00   (Wallclock seconds):       0.01\n",
      "\n",
      "Valor da função objetivo: 39.0\n",
      "Status\n",
      "Optimal\n",
      "\n",
      "Valor ótimo das variáveis\n",
      "x_('A',_'B') = 0.0\n",
      "x_('A',_'D') = 1.0\n",
      "x_('B',_'D') = 0.0\n",
      "x_('B',_'E') = 0.0\n",
      "x_('C',_'E') = 0.0\n",
      "x_('C',_'F') = 0.0\n",
      "x_('D',_'G') = 1.0\n",
      "x_('E',_'F') = 0.0\n",
      "x_('E',_'G') = 0.0\n",
      "x_('E',_'H') = 0.0\n",
      "x_('F',_'H') = 0.0\n",
      "x_('G',_'T') = 1.0\n",
      "x_('H',_'T') = 0.0\n",
      "x_('S',_'A') = 1.0\n",
      "x_('S',_'B') = 0.0\n",
      "x_('S',_'C') = 0.0\n"
     ]
    }
   ],
   "source": [
    "status_min = prob_min.solve()\n",
    "\n",
    "print(\"Valor da função objetivo:\", prob_min.objective.value())\n",
    "\n",
    "print(f'Status\\n{LpStatus[status_min]}\\n')\n",
    "\n",
    "print('Valor ótimo das variáveis')\n",
    "for v in prob_min.variables():\n",
    "    print(v.name, '=', v.varValue)"
   ]
  },
  {
   "cell_type": "markdown",
   "metadata": {},
   "source": [
    "Com base nos resultados do caminho mínimo, o percurso mais curto começa em S, segue para A, de A para D, de D para G, e finalmente de G para T."
   ]
  },
  {
   "cell_type": "markdown",
   "metadata": {},
   "source": [
    "# Questão 2"
   ]
  },
  {
   "cell_type": "code",
   "execution_count": 17,
   "metadata": {},
   "outputs": [],
   "source": [
    "x = LpVariable.dicts('x', E,  lowBound = 0)\n",
    "\n",
    "prob_max = LpProblem('model', LpMaximize)\n",
    "prob_max += x['G', 'T'] + x['H', 'T']\n",
    "\n",
    "prob_max += x['S', 'A'] - x['A', 'B'] - x['A', 'D'] == 0\n",
    "prob_max += x['S', 'B'] + x['A', 'B'] - x['B', 'D'] - x['B', 'E'] == 0\n",
    "prob_max += x['S', 'C'] - x['C', 'E'] - x['C', 'F'] == 0\n",
    "prob_max += x['A', 'D'] + x['B', 'D'] - x['D', 'G'] == 0\n",
    "prob_max += x['B', 'E'] + x['C', 'E'] - x['E', 'G'] - x['E', 'H'] - x['E', 'F'] == 0\n",
    "prob_max += x['E', 'F'] + x['C', 'F'] - x['E', 'H'] == 0\n",
    "prob_max += x['D', 'G'] + x['E', 'G'] - x['G', 'T'] == 0\n",
    "prob_max += x['E', 'H'] + x['F', 'H'] - x['H', 'T'] == 0\n",
    "\n",
    "for i in N:\n",
    "  for j in N:\n",
    "    if (i,j) in E:\n",
    "      prob_max += x[i,j] <= C[i][j]"
   ]
  },
  {
   "cell_type": "code",
   "execution_count": 18,
   "metadata": {},
   "outputs": [
    {
     "name": "stdout",
     "output_type": "stream",
     "text": [
      "Welcome to the CBC MILP Solver \n",
      "Version: 2.10.3 \n",
      "Build Date: Dec 15 2019 \n",
      "\n",
      "command line - /home/cowvin/.local/lib/python3.10/site-packages/pulp/solverdir/cbc/linux/64/cbc /tmp/2c09ffa4e1844dea9b3c04239ebdcd94-pulp.mps -max -timeMode elapsed -branch -printingOptions all -solution /tmp/2c09ffa4e1844dea9b3c04239ebdcd94-pulp.sol (default strategy 1)\n",
      "At line 2 NAME          MODEL\n",
      "At line 3 ROWS\n",
      "At line 29 COLUMNS\n",
      "At line 75 RHS\n",
      "At line 100 BOUNDS\n",
      "At line 101 ENDATA\n",
      "Problem MODEL has 24 rows, 16 columns and 43 elements\n",
      "Coin0008I MODEL read with 0 errors\n",
      "Option for timeMode changed from cpu to elapsed\n",
      "Presolve 7 (-17) rows, 11 (-5) columns and 21 (-22) elements\n",
      "Perturbing problem by 0.001% of 1 - largest nonzero change 9.4905782e-07 ( 9.4905782e-05%) - largest zero change 8.3419014e-07\n",
      "0  Obj -0 Dual inf 1.9999962 (2)\n",
      "6  Obj 19.999958\n",
      "Optimal - objective value 20\n",
      "After Postsolve, objective 20, infeasibilities - dual 0 (0), primal 0 (0)\n",
      "Optimal objective 20 - 6 iterations time 0.002, Presolve 0.00\n",
      "Option for printingOptions changed from normal to all\n",
      "Total time (CPU seconds):       0.00   (Wallclock seconds):       0.00\n",
      "\n",
      "Status\n",
      "Optimal\n",
      "\n",
      "Valor ótimo das variáveis\n",
      "x_('A',_'B') = 1.0\n",
      "x_('A',_'D') = 6.0\n",
      "x_('B',_'D') = 0.0\n",
      "x_('B',_'E') = 9.0\n",
      "x_('C',_'E') = 0.0\n",
      "x_('C',_'F') = 3.0\n",
      "x_('D',_'G') = 6.0\n",
      "x_('E',_'F') = 0.0\n",
      "x_('E',_'G') = 6.0\n",
      "x_('E',_'H') = 3.0\n",
      "x_('F',_'H') = 5.0\n",
      "x_('G',_'T') = 12.0\n",
      "x_('H',_'T') = 8.0\n",
      "x_('S',_'A') = 7.0\n",
      "x_('S',_'B') = 8.0\n",
      "x_('S',_'C') = 3.0\n"
     ]
    }
   ],
   "source": [
    "status = prob_max.solve()\n",
    "\n",
    "# print(\"Valor da função objetivo:\", prob.objective.value())\n",
    "\n",
    "print(f'Status\\n{LpStatus[status]}\\n')\n",
    "\n",
    "print('Valor ótimo das variáveis')\n",
    "for v in prob_max.variables():\n",
    "    print(v.name, '=', v.varValue)"
   ]
  },
  {
   "cell_type": "markdown",
   "metadata": {},
   "source": [
    "Pelo valor da função objetivo, o valor do fluxo máximo que chega ao destino T é de 20 unidades."
   ]
  },
  {
   "cell_type": "markdown",
   "metadata": {},
   "source": [
    "# Questão 3"
   ]
  },
  {
   "cell_type": "code",
   "execution_count": 19,
   "metadata": {},
   "outputs": [],
   "source": [
    "prob_trans = pulp.LpProblem(\"Problema_de_Transbordo\", pulp.LpMinimize)\n",
    "\n",
    "# Definindo as variáveis de decisão\n",
    "x_1_3 = pulp.LpVariable('x_1_3', lowBound=0, cat='Continuous')\n",
    "x_1_4 = pulp.LpVariable('x_1_4', lowBound=0, cat='Continuous')\n",
    "x_1_5 = pulp.LpVariable('x_1_5', lowBound=0, cat='Continuous')\n",
    "x_2_3 = pulp.LpVariable('x_2_3', lowBound=0, cat='Continuous')\n",
    "x_2_4 = pulp.LpVariable('x_2_4', lowBound=0, cat='Continuous')\n",
    "x_2_5 = pulp.LpVariable('x_2_5', lowBound=0, cat='Continuous')\n",
    "x_3_6 = pulp.LpVariable('x_3_6', lowBound=0, cat='Continuous')\n",
    "x_3_7 = pulp.LpVariable('x_3_7', lowBound=0, cat='Continuous')\n",
    "x_3_8 = pulp.LpVariable('x_3_8', lowBound=0, cat='Continuous')\n",
    "x_4_6 = pulp.LpVariable('x_4_6', lowBound=0, cat='Continuous')\n",
    "x_4_7 = pulp.LpVariable('x_4_7', lowBound=0, cat='Continuous')\n",
    "x_4_8 = pulp.LpVariable('x_4_8', lowBound=0, cat='Continuous')\n",
    "x_5_6 = pulp.LpVariable('x_5_6', lowBound=0, cat='Continuous')\n",
    "x_5_7 = pulp.LpVariable('x_5_7', lowBound=0, cat='Continuous')\n",
    "x_5_8 = pulp.LpVariable('x_5_8', lowBound=0, cat='Continuous')"
   ]
  },
  {
   "cell_type": "code",
   "execution_count": 20,
   "metadata": {},
   "outputs": [],
   "source": [
    "prob_trans += (16 * x_1_3 + 10 * x_1_4 + 12 * x_1_5 +\n",
    "               15 * x_2_3 + 14 * x_2_4 + 17 * x_2_5 +\n",
    "               6 * x_3_6 + 8 * x_3_7 + 10 * x_3_8 +\n",
    "               7 * x_4_6 + 11 * x_4_7 + 11 * x_4_8 +\n",
    "               4 * x_5_6 + 5 * x_5_7 + 12 * x_5_8)\n",
    "\n",
    "prob_trans += x_1_3 + x_1_4 + x_1_5 == 300\n",
    "prob_trans += x_2_3 + x_2_4 + x_2_5 == 300\n",
    "prob_trans += x_3_6 + x_4_6 + x_5_6 == 200\n",
    "prob_trans += x_3_7 + x_4_7 + x_5_7 == 100\n",
    "prob_trans += x_3_8 + x_4_8 + x_5_8 == 300\n",
    "prob_trans += x_1_3 + x_2_3 - x_3_6 - x_3_7 - x_3_8 == 0\n",
    "prob_trans += x_1_4 + x_2_4 - x_4_6 - x_4_7 - x_4_8 == 0\n",
    "prob_trans += x_1_5 + x_2_5 - x_5_6 - x_5_7 - x_5_8 == 0"
   ]
  },
  {
   "cell_type": "code",
   "execution_count": 21,
   "metadata": {},
   "outputs": [
    {
     "name": "stdout",
     "output_type": "stream",
     "text": [
      "Welcome to the CBC MILP Solver \n",
      "Version: 2.10.3 \n",
      "Build Date: Dec 15 2019 \n",
      "\n",
      "command line - /home/cowvin/.local/lib/python3.10/site-packages/pulp/solverdir/cbc/linux/64/cbc /tmp/272aa20009834477a2fbdf7eba545959-pulp.mps -timeMode elapsed -branch -printingOptions all -solution /tmp/272aa20009834477a2fbdf7eba545959-pulp.sol (default strategy 1)\n",
      "At line 2 NAME          MODEL\n",
      "At line 3 ROWS\n",
      "At line 13 COLUMNS\n",
      "At line 59 RHS\n",
      "At line 68 BOUNDS\n",
      "At line 69 ENDATA\n",
      "Problem MODEL has 8 rows, 15 columns and 30 elements\n",
      "Coin0008I MODEL read with 0 errors\n",
      "Option for timeMode changed from cpu to elapsed\n",
      "Presolve 8 (0) rows, 15 (0) columns and 30 (0) elements\n",
      "0  Obj 0 Primal inf 1200 (5)\n",
      "8  Obj 12400\n",
      "Optimal - objective value 12400\n",
      "Optimal objective 12400 - 8 iterations time 0.002\n",
      "Option for printingOptions changed from normal to all\n",
      "Total time (CPU seconds):       0.00   (Wallclock seconds):       0.00\n",
      "\n",
      "Status: Optimal\n",
      "Solução: {'x_1_3': 0.0, 'x_1_4': 0.0, 'x_1_5': 300.0, 'x_2_3': 0.0, 'x_2_4': 300.0, 'x_2_5': 0.0, 'x_3_6': 0.0, 'x_3_7': 0.0, 'x_3_8': 0.0, 'x_4_6': 0.0, 'x_4_7': 0.0, 'x_4_8': 300.0, 'x_5_6': 200.0, 'x_5_7': 100.0, 'x_5_8': 0.0}\n",
      "Custo total mínimo: 12400.0\n"
     ]
    }
   ],
   "source": [
    "prob_trans.solve()\n",
    "\n",
    "# Status da solução\n",
    "status = pulp.LpStatus[prob_trans.status]\n",
    "\n",
    "# Valores ótimos das variáveis\n",
    "solution = {v.name: v.varValue for v in prob_trans.variables()}\n",
    "\n",
    "# Custo total mínimo\n",
    "total_cost = pulp.value(prob_trans.objective)\n",
    "\n",
    "print(f\"Status: {status}\")\n",
    "print(f\"Solução: {solution}\")\n",
    "print(f\"Custo total mínimo: {total_cost}\")"
   ]
  },
  {
   "cell_type": "markdown",
   "metadata": {},
   "source": [
    "300 unidades de mercadorias são enviadas de Nebraska (nó 1) para Des Moines (nó 5). \n",
    "\n",
    "300 unidades de mercadorias são enviadas de Colorado (nó 2) para Omaha (nó 4).\n",
    "\n",
    "300 unidades de mercadorias são transportadas de Omaha (nó 4) para Cincinnati (nó 8).\n",
    "\n",
    "200 unidades de mercadorias são enviadas de Des Moines (nó 5) para Chicago (nó 6).\n",
    "\n",
    "100 unidades de mercadorias são transportadas de Des Moines (nó 5) para St. Louis (nó 7).\n",
    "\n",
    "As demais variáveis não tem fluxo. O custo total mínimo foi 12.400 unidades monetárias, o que significa que essa é a soma dos custos de transporte para a solução ótima encontrada."
   ]
  },
  {
   "cell_type": "markdown",
   "metadata": {},
   "source": [
    "# Questão 4"
   ]
  },
  {
   "cell_type": "code",
   "execution_count": 22,
   "metadata": {},
   "outputs": [
    {
     "name": "stdout",
     "output_type": "stream",
     "text": [
      "Welcome to the CBC MILP Solver \n",
      "Version: 2.10.3 \n",
      "Build Date: Dec 15 2019 \n",
      "\n",
      "command line - /home/cowvin/.local/lib/python3.10/site-packages/pulp/solverdir/cbc/linux/64/cbc /tmp/23ba066004ec45caa2ef5f4e886908f0-pulp.mps -timeMode elapsed -branch -printingOptions all -solution /tmp/23ba066004ec45caa2ef5f4e886908f0-pulp.sol (default strategy 1)\n",
      "At line 2 NAME          MODEL\n",
      "At line 3 ROWS\n",
      "At line 13 COLUMNS\n",
      "At line 94 RHS\n",
      "At line 103 BOUNDS\n",
      "At line 120 ENDATA\n",
      "Problem MODEL has 8 rows, 16 columns and 32 elements\n",
      "Coin0008I MODEL read with 0 errors\n",
      "Option for timeMode changed from cpu to elapsed\n",
      "Continuous objective value is 9 - 0.00 seconds\n",
      "Cgl0004I processed model has 8 rows, 16 columns (16 integer (16 of which binary)) and 32 elements\n",
      "Cutoff increment increased from 1e-05 to 0.9999\n",
      "Cbc0038I Initial state - 0 integers unsatisfied sum - 0\n",
      "Cbc0038I Solution found of 9\n",
      "Cbc0038I Before mini branch and bound, 16 integers at bound fixed and 0 continuous\n",
      "Cbc0038I Mini branch and bound did not improve solution (0.00 seconds)\n",
      "Cbc0038I After 0.00 seconds - Feasibility pump exiting with objective of 9 - took 0.00 seconds\n",
      "Cbc0012I Integer solution of 9 found by feasibility pump after 0 iterations and 0 nodes (0.00 seconds)\n",
      "Cbc0001I Search completed - best objective 9, took 0 iterations and 0 nodes (0.00 seconds)\n",
      "Cbc0035I Maximum depth 0, 0 variables fixed on reduced cost\n",
      "Cuts at root node changed objective from 9 to 9\n",
      "Probing was tried 0 times and created 0 cuts of which 0 were active after adding rounds of cuts (0.000 seconds)\n",
      "Gomory was tried 0 times and created 0 cuts of which 0 were active after adding rounds of cuts (0.000 seconds)\n",
      "Knapsack was tried 0 times and created 0 cuts of which 0 were active after adding rounds of cuts (0.000 seconds)\n",
      "Clique was tried 0 times and created 0 cuts of which 0 were active after adding rounds of cuts (0.000 seconds)\n",
      "MixedIntegerRounding2 was tried 0 times and created 0 cuts of which 0 were active after adding rounds of cuts (0.000 seconds)\n",
      "FlowCover was tried 0 times and created 0 cuts of which 0 were active after adding rounds of cuts (0.000 seconds)\n",
      "TwoMirCuts was tried 0 times and created 0 cuts of which 0 were active after adding rounds of cuts (0.000 seconds)\n",
      "ZeroHalf was tried 0 times and created 0 cuts of which 0 were active after adding rounds of cuts (0.000 seconds)\n",
      "\n",
      "Result - Optimal solution found\n",
      "\n",
      "Objective value:                9.00000000\n",
      "Enumerated nodes:               0\n",
      "Total iterations:               0\n",
      "Time (CPU seconds):             0.00\n",
      "Time (Wallclock seconds):       0.00\n",
      "\n",
      "Option for printingOptions changed from normal to all\n",
      "Total time (CPU seconds):       0.00   (Wallclock seconds):       0.00\n",
      "\n",
      "Status: Optimal\n",
      "Operário 1 designado para Tarefa 3, Custo: 3 horas.\n",
      "Operário 2 designado para Tarefa 1, Custo: 2 horas.\n",
      "Operário 3 designado para Tarefa 2, Custo: 2 horas.\n",
      "Operário 4 designado para Tarefa 4, Custo: 2 horas.\n",
      "Tempo total mínimo: 9.0 horas.\n"
     ]
    }
   ],
   "source": [
    "custos = [\n",
    "    [12, 5, 3, 2],  # Tarefa 1\n",
    "    [2, 6, 9, 5],  # Tarefa 2\n",
    "    [6, 2, 3, 2],  # Tarefa 3\n",
    "    [1, 7, 4, 2]   # Tarefa 4\n",
    "]\n",
    "\n",
    "# Definir o número de operários e tarefas\n",
    "n_operarios = len(custos)\n",
    "n_tarefas = len(custos[0])\n",
    "\n",
    "\n",
    "problema = pulp.LpProblem(\"Problema_de_Designacao\", pulp.LpMinimize)\n",
    "\n",
    "x = pulp.LpVariable.dicts(\"x\", [(i, j) for i in range(n_operarios) for j in range(n_tarefas)], cat=\"Binary\")\n",
    "\n",
    "problema += pulp.lpSum([custos[i][j] * x[(i, j)] for i in range(n_operarios) for j in range(n_tarefas)])\n",
    "\n",
    "for i in range(n_operarios):\n",
    "    problema += pulp.lpSum([x[(i, j)] for j in range(n_tarefas)]) == 1\n",
    "\n",
    "for j in range(n_tarefas):\n",
    "    problema += pulp.lpSum([x[(i, j)] for i in range(n_operarios)]) == 1\n",
    "\n",
    "# Resolver o problema\n",
    "problema.solve()\n",
    "\n",
    "# Exibir a solução\n",
    "print(\"Status:\", pulp.LpStatus[problema.status])\n",
    "\n",
    "# Exibir a designação de operários para as tarefas\n",
    "for i in range(n_operarios):\n",
    "    for j in range(n_tarefas):\n",
    "        if pulp.value(x[(i, j)]) == 1:\n",
    "            print(f\"Operário {i+1} designado para Tarefa {j+1}, Custo: {custos[i][j]} horas.\")\n",
    "\n",
    "# Exibir o tempo total mínimo\n",
    "print(f\"Tempo total mínimo: {pulp.value(problema.objective)} horas.\")"
   ]
  }
 ],
 "metadata": {
  "kernelspec": {
   "display_name": "Python 3",
   "language": "python",
   "name": "python3"
  },
  "language_info": {
   "codemirror_mode": {
    "name": "ipython",
    "version": 3
   },
   "file_extension": ".py",
   "mimetype": "text/x-python",
   "name": "python",
   "nbconvert_exporter": "python",
   "pygments_lexer": "ipython3",
   "version": "3.10.12"
  }
 },
 "nbformat": 4,
 "nbformat_minor": 2
}
